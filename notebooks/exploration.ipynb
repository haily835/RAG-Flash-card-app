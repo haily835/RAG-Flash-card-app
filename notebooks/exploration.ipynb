{
 "cells": [
  {
   "cell_type": "code",
   "execution_count": 1,
   "metadata": {},
   "outputs": [
    {
     "name": "stdout",
     "output_type": "stream",
     "text": [
      "/workspaces/RAG-Flash-card-app\n"
     ]
    },
    {
     "name": "stderr",
     "output_type": "stream",
     "text": [
      "/home/vscode/.local/lib/python3.12/site-packages/IPython/core/magics/osm.py:417: UserWarning: This is now an optional IPython functionality, setting dhist requires you to install the `pickleshare` library.\n",
      "  self.shell.db['dhist'] = compress_dhist(dhist)[-100:]\n"
     ]
    }
   ],
   "source": [
    "%cd .."
   ]
  },
  {
   "cell_type": "code",
   "execution_count": 2,
   "metadata": {},
   "outputs": [
    {
     "ename": "RuntimeError",
     "evalue": "\u001b[91mYour system has an unsupported version of sqlite3. Chroma requires sqlite3 >= 3.35.0.\u001b[0m\n\u001b[94mPlease visit https://docs.trychroma.com/troubleshooting#sqlite to learn how to upgrade.\u001b[0m",
     "output_type": "error",
     "traceback": [
      "\u001b[0;31m---------------------------------------------------------------------------\u001b[0m",
      "\u001b[0;31mRuntimeError\u001b[0m                              Traceback (most recent call last)",
      "Cell \u001b[0;32mIn[2], line 1\u001b[0m\n\u001b[0;32m----> 1\u001b[0m \u001b[38;5;28;01mfrom\u001b[39;00m\u001b[38;5;250m \u001b[39m\u001b[38;5;21;01msrc\u001b[39;00m\u001b[38;5;21;01m.\u001b[39;00m\u001b[38;5;21;01mingest\u001b[39;00m\u001b[38;5;250m \u001b[39m\u001b[38;5;28;01mimport\u001b[39;00m \u001b[38;5;241m*\u001b[39m\n\u001b[1;32m      2\u001b[0m \u001b[38;5;28;01mimport\u001b[39;00m\u001b[38;5;250m \u001b[39m\u001b[38;5;21;01msqlite3\u001b[39;00m\n\u001b[1;32m      3\u001b[0m raw_texts \u001b[38;5;241m=\u001b[39m load_documents()\n",
      "File \u001b[0;32m/workspaces/RAG-Flash-card-app/src/ingest.py:7\u001b[0m\n\u001b[1;32m      5\u001b[0m \u001b[38;5;28;01mfrom\u001b[39;00m\u001b[38;5;250m \u001b[39m\u001b[38;5;21;01mlangchain\u001b[39;00m\u001b[38;5;21;01m.\u001b[39;00m\u001b[38;5;21;01mtext_splitter\u001b[39;00m\u001b[38;5;250m \u001b[39m\u001b[38;5;28;01mimport\u001b[39;00m RecursiveCharacterTextSplitter\n\u001b[1;32m      6\u001b[0m \u001b[38;5;28;01mimport\u001b[39;00m\u001b[38;5;250m \u001b[39m\u001b[38;5;21;01mpickle\u001b[39;00m\n\u001b[0;32m----> 7\u001b[0m \u001b[38;5;28;01mfrom\u001b[39;00m\u001b[38;5;250m \u001b[39m\u001b[38;5;21;01mchromadb\u001b[39;00m\u001b[38;5;250m \u001b[39m\u001b[38;5;28;01mimport\u001b[39;00m PersistentClient  \u001b[38;5;66;03m# Import ChromaDB client\u001b[39;00m\n\u001b[1;32m      8\u001b[0m \u001b[38;5;28;01mimport\u001b[39;00m\u001b[38;5;250m \u001b[39m\u001b[38;5;21;01muuid\u001b[39;00m\n\u001b[1;32m     12\u001b[0m \u001b[38;5;28;01mdef\u001b[39;00m\u001b[38;5;250m \u001b[39m\u001b[38;5;21msave_text\u001b[39m(texts, vector_db_path\u001b[38;5;241m=\u001b[39m\u001b[38;5;124m\"\u001b[39m\u001b[38;5;124m../models/embeddings/chroma_index\u001b[39m\u001b[38;5;124m\"\u001b[39m):\n",
      "File \u001b[0;32m~/.local/lib/python3.12/site-packages/chromadb/__init__.py:36\u001b[0m\n\u001b[1;32m     34\u001b[0m         sys\u001b[38;5;241m.\u001b[39mmodules[\u001b[38;5;124m\"\u001b[39m\u001b[38;5;124msqlite3\u001b[39m\u001b[38;5;124m\"\u001b[39m] \u001b[38;5;241m=\u001b[39m sys\u001b[38;5;241m.\u001b[39mmodules\u001b[38;5;241m.\u001b[39mpop(\u001b[38;5;124m\"\u001b[39m\u001b[38;5;124mpysqlite3\u001b[39m\u001b[38;5;124m\"\u001b[39m)\n\u001b[1;32m     35\u001b[0m     \u001b[38;5;28;01melse\u001b[39;00m:\n\u001b[0;32m---> 36\u001b[0m         \u001b[38;5;28;01mraise\u001b[39;00m \u001b[38;5;167;01mRuntimeError\u001b[39;00m(\n\u001b[1;32m     37\u001b[0m             \u001b[38;5;124m\"\u001b[39m\u001b[38;5;130;01m\\033\u001b[39;00m\u001b[38;5;124m[91mYour system has an unsupported version of sqlite3. Chroma requires sqlite3 >= 3.35.0.\u001b[39m\u001b[38;5;130;01m\\033\u001b[39;00m\u001b[38;5;124m[0m\u001b[39m\u001b[38;5;130;01m\\n\u001b[39;00m\u001b[38;5;124m\"\u001b[39m\n\u001b[1;32m     38\u001b[0m             \u001b[38;5;124m\"\u001b[39m\u001b[38;5;130;01m\\033\u001b[39;00m\u001b[38;5;124m[94mPlease visit https://docs.trychroma.com/troubleshooting#sqlite to learn how to upgrade.\u001b[39m\u001b[38;5;130;01m\\033\u001b[39;00m\u001b[38;5;124m[0m\u001b[39m\u001b[38;5;124m\"\u001b[39m\n\u001b[1;32m     39\u001b[0m         )\n\u001b[1;32m     42\u001b[0m \u001b[38;5;28;01mdef\u001b[39;00m\u001b[38;5;250m \u001b[39m\u001b[38;5;21mconfigure\u001b[39m(\u001b[38;5;241m*\u001b[39m\u001b[38;5;241m*\u001b[39mkwargs) \u001b[38;5;241m-\u001b[39m\u001b[38;5;241m>\u001b[39m \u001b[38;5;28;01mNone\u001b[39;00m:  \u001b[38;5;66;03m# type: ignore\u001b[39;00m\n\u001b[1;32m     43\u001b[0m \u001b[38;5;250m    \u001b[39m\u001b[38;5;124;03m\"\"\"Override Chroma's default settings, environment variables or .env files\"\"\"\u001b[39;00m\n",
      "\u001b[0;31mRuntimeError\u001b[0m: \u001b[91mYour system has an unsupported version of sqlite3. Chroma requires sqlite3 >= 3.35.0.\u001b[0m\n\u001b[94mPlease visit https://docs.trychroma.com/troubleshooting#sqlite to learn how to upgrade.\u001b[0m"
     ]
    }
   ],
   "source": [
    "from src.ingest import *\n",
    "import sqlite3\n",
    "raw_texts = load_documents()\n",
    "raw_texts"
   ]
  },
  {
   "cell_type": "markdown",
   "metadata": {},
   "source": []
  },
  {
   "cell_type": "code",
   "execution_count": null,
   "metadata": {},
   "outputs": [],
   "source": []
  },
  {
   "cell_type": "code",
   "execution_count": 3,
   "metadata": {},
   "outputs": [
    {
     "data": {
      "text/plain": [
       "50"
      ]
     },
     "execution_count": 3,
     "metadata": {},
     "output_type": "execute_result"
    }
   ],
   "source": [
    "texts = chunk_text(raw_texts)\n",
    "len(texts)"
   ]
  },
  {
   "cell_type": "code",
   "execution_count": 4,
   "metadata": {},
   "outputs": [],
   "source": [
    "collection = create_chroma_index('./models/embeddings/chroma_db', [t.page_content for t in texts]) "
   ]
  },
  {
   "cell_type": "code",
   "execution_count": 5,
   "metadata": {},
   "outputs": [
    {
     "name": "stderr",
     "output_type": "stream",
     "text": [
      "Context leak detected, msgtracer returned -1\n",
      "Context leak detected, msgtracer returned -1\n",
      "Context leak detected, msgtracer returned -1\n",
      "Context leak detected, msgtracer returned -1\n",
      "Context leak detected, msgtracer returned -1\n",
      "Context leak detected, msgtracer returned -1\n",
      "Context leak detected, msgtracer returned -1\n",
      "Context leak detected, msgtracer returned -1\n",
      "Context leak detected, msgtracer returned -1\n",
      "Context leak detected, msgtracer returned -1\n",
      "Context leak detected, msgtracer returned -1\n",
      "Context leak detected, msgtracer returned -1\n",
      "Context leak detected, msgtracer returned -1\n",
      "Context leak detected, msgtracer returned -1\n",
      "Context leak detected, msgtracer returned -1\n",
      "Context leak detected, msgtracer returned -1\n",
      "Context leak detected, msgtracer returned -1\n",
      "Context leak detected, msgtracer returned -1\n",
      "Context leak detected, msgtracer returned -1\n",
      "Context leak detected, msgtracer returned -1\n",
      "Context leak detected, msgtracer returned -1\n",
      "Context leak detected, msgtracer returned -1\n",
      "Context leak detected, msgtracer returned -1\n",
      "Context leak detected, msgtracer returned -1\n",
      "Context leak detected, msgtracer returned -1\n",
      "Context leak detected, msgtracer returned -1\n",
      "Context leak detected, msgtracer returned -1\n",
      "Context leak detected, msgtracer returned -1\n",
      "Context leak detected, msgtracer returned -1\n",
      "Context leak detected, msgtracer returned -1\n",
      "Context leak detected, msgtracer returned -1\n",
      "Context leak detected, msgtracer returned -1\n",
      "Context leak detected, msgtracer returned -1\n",
      "Context leak detected, msgtracer returned -1\n",
      "Context leak detected, msgtracer returned -1\n",
      "Context leak detected, msgtracer returned -1\n",
      "Context leak detected, msgtracer returned -1\n",
      "Context leak detected, msgtracer returned -1\n",
      "Context leak detected, msgtracer returned -1\n",
      "Context leak detected, msgtracer returned -1\n",
      "Context leak detected, msgtracer returned -1\n",
      "Context leak detected, msgtracer returned -1\n",
      "Context leak detected, msgtracer returned -1\n",
      "Context leak detected, msgtracer returned -1\n",
      "Context leak detected, msgtracer returned -1\n",
      "Context leak detected, msgtracer returned -1\n",
      "Context leak detected, msgtracer returned -1\n",
      "Context leak detected, msgtracer returned -1\n",
      "Context leak detected, msgtracer returned -1\n",
      "Context leak detected, msgtracer returned -1\n",
      "Context leak detected, msgtracer returned -1\n",
      "Context leak detected, msgtracer returned -1\n",
      "Context leak detected, msgtracer returned -1\n",
      "Context leak detected, msgtracer returned -1\n",
      "Context leak detected, msgtracer returned -1\n",
      "Context leak detected, msgtracer returned -1\n",
      "Context leak detected, msgtracer returned -1\n",
      "Context leak detected, msgtracer returned -1\n",
      "Context leak detected, msgtracer returned -1\n",
      "Context leak detected, msgtracer returned -1\n",
      "Context leak detected, msgtracer returned -1\n",
      "Context leak detected, msgtracer returned -1\n",
      "Context leak detected, msgtracer returned -1\n",
      "Context leak detected, msgtracer returned -1\n",
      "Context leak detected, msgtracer returned -1\n",
      "Context leak detected, msgtracer returned -1\n",
      "Context leak detected, msgtracer returned -1\n",
      "Context leak detected, msgtracer returned -1\n",
      "Context leak detected, msgtracer returned -1\n",
      "Context leak detected, msgtracer returned -1\n",
      "Context leak detected, msgtracer returned -1\n",
      "Context leak detected, msgtracer returned -1\n",
      "Context leak detected, msgtracer returned -1\n",
      "Context leak detected, msgtracer returned -1\n",
      "Context leak detected, msgtracer returned -1\n",
      "Context leak detected, msgtracer returned -1\n",
      "Context leak detected, msgtracer returned -1\n",
      "Context leak detected, msgtracer returned -1\n",
      "Context leak detected, msgtracer returned -1\n",
      "Context leak detected, msgtracer returned -1\n",
      "Context leak detected, msgtracer returned -1\n",
      "Context leak detected, msgtracer returned -1\n",
      "Context leak detected, msgtracer returned -1\n",
      "Context leak detected, msgtracer returned -1\n",
      "Context leak detected, msgtracer returned -1\n",
      "Context leak detected, msgtracer returned -1\n",
      "Context leak detected, msgtracer returned -1\n",
      "Context leak detected, msgtracer returned -1\n",
      "Context leak detected, msgtracer returned -1\n",
      "Context leak detected, msgtracer returned -1\n",
      "Context leak detected, msgtracer returned -1\n",
      "Context leak detected, msgtracer returned -1\n",
      "Context leak detected, msgtracer returned -1\n",
      "Context leak detected, msgtracer returned -1\n",
      "Context leak detected, msgtracer returned -1\n",
      "Context leak detected, msgtracer returned -1\n",
      "Context leak detected, msgtracer returned -1\n",
      "Context leak detected, msgtracer returned -1\n",
      "Context leak detected, msgtracer returned -1\n",
      "Context leak detected, msgtracer returned -1\n"
     ]
    },
    {
     "data": {
      "text/plain": [
       "[['computing systems, pp. 1 – 13 .\\nSteed, A., 2006. Towards a general model for selection in virtual environments. In: 3D \\nUser Interfaces (3DUI ’ 06). IEEE, pp. 103 – 110 .\\nThorndike, E.L., 1933. A proof of the law of effect. Science 77 (1989), 173 – 175 .\\nM.J. Kim et al.                                                                                                                                                                                                                                  International Journal of Human - Computer Studies 193 (2025) 103385 \\n9',\n",
       "  '3.5. Experimental procedure\\nFig. 4 illustrates the experimental procedure. Participants completed \\npractice tasks before the main experiment. The participants adapted \\neach typing method (Shift, LP, DT) in a practice session lasting \\napproximately 7 min. During the practice session, participants typed \\nthree sentences provided using each method and were instructed to step \\nback appropriately for typing. The participants performed the tasks in \\ntheir respective positions they had set. They typed text while equipping \\nthe HMD with the randomly presented methods. The participants were \\ninstructed to type 10 sentences as quickly and accurately as possible \\nusing each typing method. Thus, the 10 sentences were composed of a \\nmixture of English uppercase and lowercase letters. Thirty sentences \\nwere provided to the participants, all from the phase sets of ( MacKenzie \\nand Soukoreff, 2003 ) and Enron Mobile ( Vertanen and Kristensson, \\n2011 ). They comprised more than two uppercase letters and fewer than \\n43 letters. The sentences were 280 – 302 characters in length, including \\nspaces, and contained 29 – 30 capitalized letters across the ten sentences. \\nUnder the DT condition, six words such as \"see,\" \"will,\" and \"agree,\" \\nwhere the same lowercase letter appeared consecutively, were included \\nacross the ten presented sentences. After completing the test under each \\ncondition, the participants removed their HMD and filled in the ques -',\n",
       "  'that the DT can support more efficient typing tasks in VEs than other \\nmethods.\\n4.2. Subjective experience evaluation\\nThe USE questionnaire was used to evaluate the UX. The differences \\nobserved owing to the uppercase input method were statistically \\nTable 1 \\nUSE questionnaire aspects and items.\\nAspect Item\\nUsefulness It helps me be more effective.\\nUsefulness It helps me be more productive.\\nUsefulness It is useful.\\nUsefulness It gives me more control over the activities in my life.\\nUsefulness It makes the things I want to accomplish easier to get done.\\nEase of use It is easy to use.\\nEase of use It is simple to use.\\nEase of use It is user friendly.\\nEase of use It requires the fewest steps possible to accomplish what I want to \\ndo with it.\\nEase of \\nlearning\\nI learned to use it quickly.\\nEase of \\nlearning\\nI easily remember how to use it.\\nEase of \\nlearning\\nIt is easy to learn to use it.\\nSatisfaction I would recommend it to a friend.\\nSatisfaction It is fun to use.\\nSatisfaction It works the way I want it to work.\\nNote. Each item is rated based on Likert 7-point scale (1 = strongly disagree, 7 =\\nstrongly agree).\\nTable 2 \\nNASA-TLX questionnaire aspects and items.\\nAspect Item\\nMental demand How much mental and perceptual activity was required?\\nPhysical \\ndemand\\nHow much physical activity was required?\\nTemporal \\ndemand\\nHow much time pressure did you feel due to the rate or pace at \\nwhich the tasks or task elements occurred?',\n",
       "  'significant in usefulness ( p = .000, F = 10.392, η\\n2\\n= 0.264), ease of use ( F \\n= 4.058, p = .022, η\\n2\\n= 0.123), ease of learning ( F = 5.868, p = .005, \\nη\\n2\\n= 0.168), and satisfaction ( F = 7.325, p = .001, η\\n2\\n= 0.202) ( Fig. 6 ). The \\npost-hoc grouping exhibited that the Shift ( M = 5.553, SD = 1.12) and the \\nDT ( M = 5.273, SD = 1.52) were more useful than the LP ( M = 4.187, \\nSD = 1.73). Here, the DT ( M = 5.700, SD = 1.21) was the easiest to use, \\nand the Shift ( M = 6.711, SD = 0.49) was the easiest to learn. Further, the \\nShift ( M = 5.392, SD = 1.27) and the DT ( M = 5.417, SD = 1.54) satisfied \\nusers more than the LP ( M = 4.208, SD = 1.63). Overall, the LP was \\nevaluated as having a diminished UX compared to the other two \\nmethods. This result appears to stem from differences in factors such as \\nfamiliarity, feedback mechanisms, and input frequency inherent to each \\ninteraction method.\\nThe VRSQ was used to evaluate sickness after typing tasks. Although \\nthere was no statistically significant difference between the typing \\nmethods, the sickness was observed in the Shift ( M = 9.99, SD = 12.86), \\nDT ( M = 8.94, SD = 10.64), and LP ( M = 8.14, SD = 9.47) order. The \\nVRSQ, developed based on the SSQ to assess sickness in VR environ -\\nments using a 100-point scale, indicates that a lower score corresponds \\nto either negligible or minimal sickness symptoms ( Kim et al., 2018 ). \\nAccording to the analysis, there was no statistically significant differ -',\n",
       "  'switching via the shift key. Furthermore, the alternative methods \\nexplored in this study show potential for application in non-English \\nlanguages, such as Korean, where the methods could simplify the \\ninput of double consonants without requiring complex key \\ncombinations.\\nUltimately, the findings of this study underscore the importance of \\nexploring multiple interaction methods rather than relying solely on \\nestablished practices like the shift modifier key. The potential for more \\nflexible and efficient typing interactions in VEs opens up new possibil -\\nities for enhancing UX, especially in tasks requiring frequent switching \\nbetween cases or symbols. These insights pave the way for future \\nresearch that can further validate these methods across different con -\\ntexts and user needs.\\n6. Conclusion\\nThis study proposed new interactions as alternatives to modifier key \\ninputs for layer transition in the typing context to minimize pointers and \\nhand movements in the VE. The Shift, LP, and DT methods were devel -\\noped and evaluated for their performance and UX. The results showed \\nthat the Shift was advantageous in terms of usefulness and ease of \\nlearning. The DT method outperformed the other methods in terms of \\ntyping performance, ease of use, satisfaction, and preferences. The re -\\nsults implied that the DT method has potential as a new typing inter -\\naction in the VE owing to its advantages in performance and UX.',\n",
       "  'Comparing typing methods for uppercase input in virtual reality: Modifier \\nKey vs. alternative approaches\\nMin Joo Kim\\na\\n, Yu Gyeong Son\\na\\n, Yong Min Kim\\nb , 1\\n, Donggun Park\\na , *\\na\\nDepartment of Media Communication, Pukyong National University, Busan, Republic of Korea\\nb\\nDivision of Interdisciplinary Studies in Cultural Intelligence (HCI Science Major), Dongduk Women ’ s University, Seoul, Republic of Korea\\nARTICLE INFO\\nKeywords:\\nVirtual reality (VR)\\nVirtual environment (VE)\\nTyping interaction\\nUser experience (UX)\\nModifier key\\nABSTRACT\\nTyping tasks are basic interactions in a virtual environment (VE). The presence of uppercase letters affects the \\nmeanings of words and their readability. By typing uppercase letters on a QWERTY keyboard, the layers can be \\nswitched using a modifier key. Considering that VE controllers are typically used in a VE, this input method can \\nresult in user fatigue and errors. Thus, this study proposed new alternative interactions for the modifier key input \\nand compared their typing performance and user experience. In an experiment, 30 participants were instructed \\nto type 10 sentences using different typing interaction methods (shift, long press, and double-tap) on a virtual \\nkeyboard in a VE. The typing speed, error rate, and number of backspace inputs were measured to compare \\ntyping performance. Upon the completion of the typing task, the usability, workload, and sickness associated',\n",
       "  'method. This result was consistent with prior studies showing that \\ninteraction experiences and familiarity moved to a new environment, \\nthereby lowering mental demands ( Jacob et al., 2007 ; NORMAN, 2011 ). \\nThis is also consistent with the results of a study wherein experiences \\nhelped users clearly understand functionalities, enabling them to \\nperceive purpose and usage without additional learning processes \\n( Hollinworth and Hwang, 2011 ).\\nHowever, this study focused on the determining the results of the DT \\nmethod that achieved the best evaluation in terms of ease of use, satis -\\nfaction, preference, perceived workload, and typing performance. This \\nresult implies that the advantages of the DT keyboard performance and \\nUX overcome the cost of teaching users new interactions ( Boletsis and \\nKongsvik, 2019 ; Wang et al., 2023b ). The DT method demonstrated the \\nlowest workload in terms of effort and overall NASA-TLX scores. As \\nstated in 3.5. Experimental procedure, there were cases that the same \\nlowercase letter appeared consecutively under the DT condition. This \\nmay lead to unintended inputs contrary to user intent. Despite this issue, \\nthe DT method demonstrated good performance. The DT method was \\nfaster (8.83 WPM) than the other methods, and its difference from the LP \\nmethod was statistically significant. The DT method exhibited the lowest \\nerror rate. These results were related to the characteristics of the VE',\n",
       "  'environments. Comput Graph 37 (3), 121 – 136 .\\nBoletsis, C., Kongsvik, S., 2019. Text input in virtual reality: a preliminary evaluation of \\nthe drum-like vr keyboard. Technologies 7 (2), 31 .\\nBowman, D.A., 2002. Principles for the design of performance-oriented interaction \\ntechniques. Handbook of Virtual Environments. CRC Press, pp. 317 – 340 .\\nBowman, D.A., McMahan, R.P., Ragan, E.D., 2012. Questioning naturalism in 3D user \\ninterfaces. Commun. ACM 55 (9), 78 – 88 .\\nCaggianese, G., Gallo, L., Neroni, P., 2019. The vive controllers vs. leap motion for \\ninteractions in virtual environments: a comparative evaluation. In: Intelligent \\nInteractive Multimedia Systems and Services: Proceedings of 2018 Conference 11. \\nSpringer International Publishing, pp. 24 – 33 .\\nCui, D., Mousas, C., 2023. Exploring the effects of virtual hand appearance on midair \\ntyping efficiency. Comput Animat Virtual Worlds 34 (3 – 4), e2189 .\\nDudley, J., Benko, H., Wigdor, D., Kristensson, P.O., 2019. Performance envelopes of \\nvirtual keyboard text input strategies in virtual reality. In: 2019 IEEE International \\nSymposium on Mixed and Augmented Reality (ISMAR). IEEE, pp. 289 – 300 .\\nFeng, W., Zou, J., Kurauchi, A., Morimoto, C.H., Betke, M., 2021. Hgaze typing: head- \\ngesture assisted gaze typing. In: ACM Symposium on eye tracking research and \\napplications, pp. 1 – 11 .\\nFitts, P.M., 1954. The information capacity of the human motor system in controlling the',\n",
       "  'DT 1.036 1.275 1.749 3.464 0.767 28 0.450\\nTable 6 \\nResults of the preference and the user interview.\\nTyping \\nmethods\\nN Reasons for \\npreference\\nN Examples of responses\\nShift 9 Familiarity 6 “ It was familiar and comfortable \\nsince it was the most similar method \\nto what I usually use. ” (P2)\\nPrecision 3 “ There were fewer instances where \\nuppercase letters were entered \\nunintentionally. When I pressed Shift, \\nuppercase letters appeared on the \\nkeyboard, making it clear that it was in \\nan uppercase input state. ” (P23)\\nLP 3 Simplicity 3 “ It was the simplest way without the \\nneed to press additional keys or move \\nmy hands more. ” (P22)\\nDT 18 Low physical \\ndemand & speed\\n10 “ The distance my hands needed to \\nmove in mid-air was short, which \\nreduced physical demand, and I could \\ntype the fastest since there were no \\ncumbersome movements. ” (P15)\\nEase of control \\n& error rate\\n5 “ It felt like a natural typing method in a \\nvirtual environment. I felt in control of \\nmy input, and there were the fewest \\ntyping errors. ” (P27)\\nFun 3 “ The rhythm of double-tapping made it \\nmore enjoyable than the familiar typing \\nmethod (Shift). ” (P28)\\nM.J. Kim et al.                                                                                                                                                                                                                                  International Journal of Human - Computer Studies 193 (2025) 103385 \\n7',\n",
       "  'users a familiar way to interact. This study explored alternative inter -\\naction methods for typing in VEs, particularly focusing on enhancing the \\nUX and minimizing physical demands in the context requiring the up -\\npercase lowercase letters. In the comparison of the traditional shift \\nmodifier key with the LP and DT methods the DT showed promising \\nresults in certain performance metrics like typing speed and error rate, \\nand UX measures. However, the results of this study do not conclusively \\ndemonstrate that the DT is always superior. Rather, the study aimed to \\nexplore new alternatives to the shift modifier key, presenting various \\ninteraction methods that could be beneficial depending on the context.\\nThe practical implications of these findings are particularly relevant \\nin scenarios where both uppercase and lowercase letters are frequently \\nused, such as composing emails or participating in chat sessions within \\nVEs. For example, the DT and LP method can reduce the physical effort \\nrequired to switch between cases, offering a more streamlined experi -\\nence compared to the traditional shift key. Additionally, this method \\ncould be advantageous when entering special characters that are typi -\\ncally located above number keys, as it eliminates the need for layer \\nswitching via the shift key. Furthermore, the alternative methods \\nexplored in this study show potential for application in non-English \\nlanguages, such as Korean, where the methods could simplify the']]"
      ]
     },
     "execution_count": 5,
     "metadata": {},
     "output_type": "execute_result"
    }
   ],
   "source": [
    "from src.retriever import retrieve\n",
    "\n",
    "retrieve('./models/embeddings/chroma_db', 'abstract', 10)"
   ]
  },
  {
   "cell_type": "code",
   "execution_count": 11,
   "metadata": {},
   "outputs": [
    {
     "name": "stdout",
     "output_type": "stream",
     "text": [
      "\n",
      "Summary this text\n",
      "\n",
      "Here are the source documents: BLOOM has 176 billion parameters and can generate text in 46 languages natural languages and 13 programming languages.\n",
      "\n",
      "Now begin!\n",
      "Answer:\n",
      "\n"
     ]
    }
   ],
   "source": [
    "RAG_PROMPT_TEMPLATE_JSON = \"\"\"\n",
    "Summary this text\n",
    "\n",
    "Here are the source documents: {context}\n",
    "\n",
    "Now begin!\n",
    "Answer:\n",
    "\"\"\"\n",
    "\n",
    "prompt = RAG_PROMPT_TEMPLATE_JSON.format(num_card=3, context=context)\n",
    "print(prompt)"
   ]
  },
  {
   "cell_type": "code",
   "execution_count": 14,
   "metadata": {},
   "outputs": [
    {
     "name": "stderr",
     "output_type": "stream",
     "text": [
      "Setting `pad_token_id` to `eos_token_id`:50256 for open-end generation.\n"
     ]
    }
   ],
   "source": [
    "answer = generator(\n",
    "    \"Who is Obama\",\n",
    "    max_new_tokens=250,\n",
    "    temperature=1.6,\n",
    "    return_full_text=False,\n",
    ")"
   ]
  },
  {
   "cell_type": "code",
   "execution_count": 15,
   "metadata": {},
   "outputs": [
    {
     "data": {
      "text/plain": [
       "[{'generated_text': '?\"\\n\\nAnd even then she didn\\'t quite understand the meaning of \"what?\" After all of this, where you came in the middle of nowhere from are there some weird symbols? (Maybe it must have dawned in college—though perhaps not before being the world\\'s fastest-moving man as seen in this scene.) It seems just after \"Boom\" that these sounds are all heard as clearly from far away as the streets below, and they just wouldn\\'t make sense—no pun intended. Maybe that sounds more like people moving around in the street on the ground. I\\'m glad I had found a spot that sounded more like \"What the Fuck is this,\" since, after getting used to it at all as a song by James Cusanano\\'s No One Should Sleep in Stables, we eventually got used to it a bit. Still, it\\'s never been this complicated. If that sounds way too \"normal,\" perhaps we probably also should find more spots for \"bumping\" this melody into your ears with songs by Tintin, as well as some really long, weird and unusual ones.\\n\\n\\n4) The Fearsome Thing (Remakes)\\n\\n\\n4) This Will Happen Before There Is Any'}]"
      ]
     },
     "execution_count": 15,
     "metadata": {},
     "output_type": "execute_result"
    }
   ],
   "source": [
    "answer"
   ]
  }
 ],
 "metadata": {
  "kernelspec": {
   "display_name": "Python 3",
   "language": "python",
   "name": "python3"
  },
  "language_info": {
   "codemirror_mode": {
    "name": "ipython",
    "version": 3
   },
   "file_extension": ".py",
   "mimetype": "text/x-python",
   "name": "python",
   "nbconvert_exporter": "python",
   "pygments_lexer": "ipython3",
   "version": "3.12.8"
  }
 },
 "nbformat": 4,
 "nbformat_minor": 2
}
